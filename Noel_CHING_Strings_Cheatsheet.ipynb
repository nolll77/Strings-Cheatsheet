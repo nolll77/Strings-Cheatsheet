{
  "nbformat": 4,
  "nbformat_minor": 0,
  "metadata": {
    "colab": {
      "name": "Noel-CHING Strings Cheatsheet.ipynb",
      "provenance": []
    },
    "kernelspec": {
      "name": "python3",
      "display_name": "Python 3"
    }
  },
  "cells": [
    {
      "cell_type": "markdown",
      "metadata": {
        "id": "D1IKOF52KA0T",
        "colab_type": "text"
      },
      "source": [
        "## #Some Ways to create Strings."
      ]
    },
    {
      "cell_type": "code",
      "metadata": {
        "id": "25rF6g8uEmMw",
        "colab_type": "code",
        "colab": {
          "base_uri": "https://localhost:8080/",
          "height": 35
        },
        "outputId": "222f1761-4738-459f-8717-02d9b5a99ef2"
      },
      "source": [
        "my_string = 'Hello'\n",
        "print(my_string)"
      ],
      "execution_count": null,
      "outputs": [
        {
          "output_type": "stream",
          "text": [
            "Hello\n"
          ],
          "name": "stdout"
        }
      ]
    },
    {
      "cell_type": "code",
      "metadata": {
        "id": "gH7iT5JRHHhQ",
        "colab_type": "code",
        "colab": {
          "base_uri": "https://localhost:8080/",
          "height": 35
        },
        "outputId": "2b82a8e1-2000-4d20-8501-32cf7899ee0e"
      },
      "source": [
        "my_string = \"Hello\"\n",
        "print(my_string)"
      ],
      "execution_count": null,
      "outputs": [
        {
          "output_type": "stream",
          "text": [
            "Hello\n"
          ],
          "name": "stdout"
        }
      ]
    },
    {
      "cell_type": "code",
      "metadata": {
        "id": "OTFNbsSWHHfX",
        "colab_type": "code",
        "colab": {
          "base_uri": "https://localhost:8080/",
          "height": 35
        },
        "outputId": "b829a5c3-1509-4a94-a24c-4c561fc4fa4c"
      },
      "source": [
        "my_string = '''Hello'''\n",
        "print(my_string)"
      ],
      "execution_count": null,
      "outputs": [
        {
          "output_type": "stream",
          "text": [
            "Hello\n"
          ],
          "name": "stdout"
        }
      ]
    },
    {
      "cell_type": "code",
      "metadata": {
        "id": "ajvrpDGaHHb3",
        "colab_type": "code",
        "colab": {
          "base_uri": "https://localhost:8080/",
          "height": 72
        },
        "outputId": "b17427b8-1f47-4706-bbf1-f273d0f78864"
      },
      "source": [
        "#String with multiple Line\n",
        "my_string = \"\"\"\n",
        "Hello, welcome to\n",
        "the world of Python\"\"\"\n",
        "print(my_string)"
      ],
      "execution_count": null,
      "outputs": [
        {
          "output_type": "stream",
          "text": [
            "\n",
            "Hello, welcome to\n",
            "the world of Python\n"
          ],
          "name": "stdout"
        }
      ]
    },
    {
      "cell_type": "code",
      "metadata": {
        "id": "53s5xqb-HTX3",
        "colab_type": "code",
        "colab": {
          "base_uri": "https://localhost:8080/",
          "height": 35
        },
        "outputId": "396021c9-2452-43e0-d04b-a38d29a38e54"
      },
      "source": [
        "# You can check if any variable is string or not using “type()”.\n",
        "my_string=\"Jovian\"\n",
        "print(my_string,type(my_string))"
      ],
      "execution_count": null,
      "outputs": [
        {
          "output_type": "stream",
          "text": [
            "Jovian <class 'str'>\n"
          ],
          "name": "stdout"
        }
      ]
    },
    {
      "cell_type": "markdown",
      "metadata": {
        "id": "uDIpRXNWHcyn",
        "colab_type": "text"
      },
      "source": [
        "## How to access characters in a string?\n",
        "\n",
        "We can access individual characters using indexing and a range of characters using slicing. Index starts from 0. Trying to access a character out of index range will raise an IndexError. The index must be an integer. We can’t use float or other types, this will result into TypeError.\n",
        "\n",
        "Python allows negative indexing for its sequences.\n",
        "\n",
        "The index of -1 refers to the last item, -2 to the second last item and so on. We can access a range of items in a string by using the slicing operator (colon)."
      ]
    },
    {
      "cell_type": "code",
      "metadata": {
        "id": "1HlEndmSHTTI",
        "colab_type": "code",
        "colab": {
          "base_uri": "https://localhost:8080/",
          "height": 35
        },
        "outputId": "0aed2d7f-510c-4e84-9b8f-f4e87afb2f4d"
      },
      "source": [
        "str = 'Jovian'\n",
        "print('str = ', str)"
      ],
      "execution_count": null,
      "outputs": [
        {
          "output_type": "stream",
          "text": [
            "str =  Jovian\n"
          ],
          "name": "stdout"
        }
      ]
    },
    {
      "cell_type": "code",
      "metadata": {
        "id": "8V_K1q8hHTP8",
        "colab_type": "code",
        "colab": {
          "base_uri": "https://localhost:8080/",
          "height": 35
        },
        "outputId": "0a91a7b6-51d0-41fb-e10a-a3d4f68d2b4e"
      },
      "source": [
        "#first character\n",
        "print('str[0] = ', str[0])"
      ],
      "execution_count": null,
      "outputs": [
        {
          "output_type": "stream",
          "text": [
            "str[0] =  J\n"
          ],
          "name": "stdout"
        }
      ]
    },
    {
      "cell_type": "code",
      "metadata": {
        "id": "ndfqBahrHTN5",
        "colab_type": "code",
        "colab": {
          "base_uri": "https://localhost:8080/",
          "height": 35
        },
        "outputId": "81763a59-9546-4a63-c2f4-b04205d1c658"
      },
      "source": [
        "#last character\n",
        "print('str[-1] = ', str[-1])"
      ],
      "execution_count": null,
      "outputs": [
        {
          "output_type": "stream",
          "text": [
            "str[-1] =  n\n"
          ],
          "name": "stdout"
        }
      ]
    },
    {
      "cell_type": "code",
      "metadata": {
        "id": "2syiOJdoHTJm",
        "colab_type": "code",
        "colab": {
          "base_uri": "https://localhost:8080/",
          "height": 35
        },
        "outputId": "bc59e670-cd09-497c-b1f2-0b4bd4796174"
      },
      "source": [
        "#slicing 2nd to 5th character\n",
        "print('str[1:5] = ', str[1:5])"
      ],
      "execution_count": null,
      "outputs": [
        {
          "output_type": "stream",
          "text": [
            "str[1:5] =  ovia\n"
          ],
          "name": "stdout"
        }
      ]
    },
    {
      "cell_type": "code",
      "metadata": {
        "id": "wGurQyVAHTHm",
        "colab_type": "code",
        "colab": {
          "base_uri": "https://localhost:8080/",
          "height": 35
        },
        "outputId": "09da15ce-2d40-4091-c22d-818cc103f1f2"
      },
      "source": [
        "#slicing 2nd to 2nd last character\n",
        "print('str[1:-1] = ', str[1:-1])"
      ],
      "execution_count": null,
      "outputs": [
        {
          "output_type": "stream",
          "text": [
            "str[1:-1] =  ovia\n"
          ],
          "name": "stdout"
        }
      ]
    },
    {
      "cell_type": "markdown",
      "metadata": {
        "id": "NlqN6991HxRM",
        "colab_type": "text"
      },
      "source": [
        "## How to change or delete a string?\n",
        "\n",
        "Strings are immutable. This means that elements of a string cannot be changed once it has been assigned. We can simply reassign different strings to the same name.\n",
        "\n",
        "We cannot delete or remove characters from a string. But deleting the string entirely is possible using the keyword del\n",
        "\n",
        "Python String Operations\n",
        "Concatenating Two or More Strings\n",
        "\n",
        "Joining of two or more strings into a single one is called concatenation.\n",
        "\n",
        "The + operator does this in Python. Simply writing two string literals together also concatenates them.\n",
        "\n",
        "The * operator can be used to repeat the string for a given number of times."
      ]
    },
    {
      "cell_type": "code",
      "metadata": {
        "id": "DFu2vLVMHTFL",
        "colab_type": "code",
        "colab": {}
      },
      "source": [
        "str1 = 'Hello'\n",
        "str2 ='World!'"
      ],
      "execution_count": null,
      "outputs": []
    },
    {
      "cell_type": "code",
      "metadata": {
        "id": "jgCuUYj9HzlI",
        "colab_type": "code",
        "colab": {
          "base_uri": "https://localhost:8080/",
          "height": 35
        },
        "outputId": "cb546a92-f910-4e3c-d351-0669a2cf8cbb"
      },
      "source": [
        "# using +\n",
        "print('str1 + str2 = ', str1 + str2)"
      ],
      "execution_count": null,
      "outputs": [
        {
          "output_type": "stream",
          "text": [
            "str1 + str2 =  HelloWorld!\n"
          ],
          "name": "stdout"
        }
      ]
    },
    {
      "cell_type": "code",
      "metadata": {
        "id": "hcKHu_iOHziE",
        "colab_type": "code",
        "colab": {
          "base_uri": "https://localhost:8080/",
          "height": 35
        },
        "outputId": "132c1532-a85e-4022-8f15-3121d20cd114"
      },
      "source": [
        "# using *\n",
        "print('str1 * 3 =', str1 * 3)"
      ],
      "execution_count": null,
      "outputs": [
        {
          "output_type": "stream",
          "text": [
            "str1 * 3 = HelloHelloHello\n"
          ],
          "name": "stdout"
        }
      ]
    },
    {
      "cell_type": "code",
      "metadata": {
        "id": "CMj1pkSCHTA4",
        "colab_type": "code",
        "colab": {
          "base_uri": "https://localhost:8080/",
          "height": 35
        },
        "outputId": "27dc8f1b-be49-43ce-99e8-4bb7d8a85f42"
      },
      "source": [
        "# Iterating Through String Using for loop we can iterate through a string. Here is an example to count the number of ‘l’ in a string .\n",
        "count = 0\n",
        "for letter in 'Hello World':\n",
        "    if(letter == 'l'):\n",
        "        count += 1\n",
        "print(count,'letters found')"
      ],
      "execution_count": null,
      "outputs": [
        {
          "output_type": "stream",
          "text": [
            "3 letters found\n"
          ],
          "name": "stdout"
        }
      ]
    },
    {
      "cell_type": "code",
      "metadata": {
        "id": "TcoFqnpHHS9v",
        "colab_type": "code",
        "colab": {
          "base_uri": "https://localhost:8080/",
          "height": 35
        },
        "outputId": "f40db1fc-d34d-4241-fd99-d93e19ae10e4"
      },
      "source": [
        "# String Membership Test We can Check whether a sub string exists within a string or not, using the keyword in.\n",
        "'a' in 'Jovian'"
      ],
      "execution_count": null,
      "outputs": [
        {
          "output_type": "execute_result",
          "data": {
            "text/plain": [
              "True"
            ]
          },
          "metadata": {
            "tags": []
          },
          "execution_count": 52
        }
      ]
    },
    {
      "cell_type": "code",
      "metadata": {
        "id": "057IVYbsH9lQ",
        "colab_type": "code",
        "colab": {
          "base_uri": "https://localhost:8080/",
          "height": 35
        },
        "outputId": "ab9f3b65-5a70-4ec7-f3f1-a10737833e05"
      },
      "source": [
        "'at' not in 'battle'"
      ],
      "execution_count": null,
      "outputs": [
        {
          "output_type": "execute_result",
          "data": {
            "text/plain": [
              "False"
            ]
          },
          "metadata": {
            "tags": []
          },
          "execution_count": 53
        }
      ]
    },
    {
      "cell_type": "markdown",
      "metadata": {
        "id": "hSw8Txg5IPEW",
        "colab_type": "text"
      },
      "source": [
        "## Built-in functions to Work with Python Strings\n",
        "\n",
        "The enumerate() function returns an enumerate object. It contains the index and value of all the items in the string as pairs. This can be useful for iteration.\n",
        "\n",
        "Similarly, len() returns the length (number of characters) of the string."
      ]
    },
    {
      "cell_type": "code",
      "metadata": {
        "id": "p5LzzvwlIMoc",
        "colab_type": "code",
        "colab": {}
      },
      "source": [
        "str = 'jovian'"
      ],
      "execution_count": null,
      "outputs": []
    },
    {
      "cell_type": "code",
      "metadata": {
        "id": "b7KsnvYZIMmV",
        "colab_type": "code",
        "colab": {
          "base_uri": "https://localhost:8080/",
          "height": 35
        },
        "outputId": "267ddd64-0979-480e-f583-51a4fd13579a"
      },
      "source": [
        "# enumerate()\n",
        "list_enumerate = list(enumerate(str))\n",
        "print('list[(enumerate(str)] = ', list_enumerate) "
      ],
      "execution_count": null,
      "outputs": [
        {
          "output_type": "stream",
          "text": [
            "list[(enumerate(str)] =  [(0, 'j'), (1, 'o'), (2, 'v'), (3, 'i'), (4, 'a'), (5, 'n')]\n"
          ],
          "name": "stdout"
        }
      ]
    },
    {
      "cell_type": "code",
      "metadata": {
        "id": "lGZ0Ktn9IT0s",
        "colab_type": "code",
        "colab": {
          "base_uri": "https://localhost:8080/",
          "height": 35
        },
        "outputId": "ced892f6-fd5d-4d75-d327-0af6987a2507"
      },
      "source": [
        "#character count\n",
        "print('len(str) = ', len(str))"
      ],
      "execution_count": null,
      "outputs": [
        {
          "output_type": "stream",
          "text": [
            "len(str) =  6\n"
          ],
          "name": "stdout"
        }
      ]
    },
    {
      "cell_type": "markdown",
      "metadata": {
        "id": "edUxo1KtIa16",
        "colab_type": "text"
      },
      "source": [
        "#### Escape Sequence If we want to print a text like -He said, “What’s there?”- we can neither use single quote or double quotes. This will result into SyntaxError as the text itself contains both single and double quotes."
      ]
    },
    {
      "cell_type": "code",
      "metadata": {
        "id": "E54YEjU_ITyP",
        "colab_type": "code",
        "colab": {
          "base_uri": "https://localhost:8080/",
          "height": 35
        },
        "outputId": "cad9718b-64d9-4e02-d56c-61c9a6fb80b6"
      },
      "source": [
        "# using triple quotes\n",
        "print('''He said, \"What's there?\"''')"
      ],
      "execution_count": null,
      "outputs": [
        {
          "output_type": "stream",
          "text": [
            "He said, \"What's there?\"\n"
          ],
          "name": "stdout"
        }
      ]
    },
    {
      "cell_type": "code",
      "metadata": {
        "id": "7FfVNApOIcra",
        "colab_type": "code",
        "colab": {
          "base_uri": "https://localhost:8080/",
          "height": 35
        },
        "outputId": "6b042794-6060-4b96-9b42-25af93aeedef"
      },
      "source": [
        "# escaping single quotes\n",
        "print('He said, \"What\\'s there?\"')"
      ],
      "execution_count": null,
      "outputs": [
        {
          "output_type": "stream",
          "text": [
            "He said, \"What's there?\"\n"
          ],
          "name": "stdout"
        }
      ]
    },
    {
      "cell_type": "code",
      "metadata": {
        "id": "W9IZFuOGIcpB",
        "colab_type": "code",
        "colab": {
          "base_uri": "https://localhost:8080/",
          "height": 35
        },
        "outputId": "c6518ff8-57e0-4ba3-fd11-86971bd8e6ee"
      },
      "source": [
        "# escaping double quotes\n",
        "print(\"He said, \\\"What's there?\\\"\")"
      ],
      "execution_count": null,
      "outputs": [
        {
          "output_type": "stream",
          "text": [
            "He said, \"What's there?\"\n"
          ],
          "name": "stdout"
        }
      ]
    },
    {
      "cell_type": "markdown",
      "metadata": {
        "id": "BXBrSaT7IkER",
        "colab_type": "text"
      },
      "source": [
        "#### The format() Method for Formatting Strings\n",
        "\n",
        "The format() method that is available with the string object is very versatile and powerful in formatting strings. Format strings contains curly braces {} as placeholders or replacement fields which gets replaced."
      ]
    },
    {
      "cell_type": "code",
      "metadata": {
        "id": "-R_WSLbtITu_",
        "colab_type": "code",
        "colab": {
          "base_uri": "https://localhost:8080/",
          "height": 72
        },
        "outputId": "cddfedc6-40aa-4f9b-e84f-464cee9cd539"
      },
      "source": [
        "# default(implicit) order\n",
        "default_order = \"{}, {} and {}\".format('Amit','Bhavesh','Nilesh')\n",
        "print('\\n-   Using Default Order   -')\n",
        "print(default_order)"
      ],
      "execution_count": null,
      "outputs": [
        {
          "output_type": "stream",
          "text": [
            "\n",
            "-   Using Default Order   -\n",
            "Amit, Bhavesh and Nilesh\n"
          ],
          "name": "stdout"
        }
      ]
    },
    {
      "cell_type": "code",
      "metadata": {
        "id": "AzVShh1CIMiM",
        "colab_type": "code",
        "colab": {
          "base_uri": "https://localhost:8080/",
          "height": 72
        },
        "outputId": "dc2bbec2-9e3f-479c-d385-dc2011c33ff0"
      },
      "source": [
        "# order using positional argument\n",
        "positional_order = \"{1}, {0} and {2}\".format('Amit','Bhavesh','Nilesh')\n",
        "print('\\n-  Using Positional Order   -')\n",
        "print(positional_order)"
      ],
      "execution_count": null,
      "outputs": [
        {
          "output_type": "stream",
          "text": [
            "\n",
            "-  Using Positional Order   -\n",
            "Bhavesh, Amit and Nilesh\n"
          ],
          "name": "stdout"
        }
      ]
    },
    {
      "cell_type": "code",
      "metadata": {
        "id": "13H_ruPiH9i6",
        "colab_type": "code",
        "colab": {
          "base_uri": "https://localhost:8080/",
          "height": 72
        },
        "outputId": "7f4fdd25-bf19-4dd9-91a3-a6360ff6c44b"
      },
      "source": [
        "# order using keyword argument\n",
        "keyword_order = \"{a}, {b} and {n}\".format(a='Amit',b='Bhavesh',n='Nilesh')\n",
        "print('\\n-  Using Keyword Order   -')\n",
        "print(keyword_order)"
      ],
      "execution_count": null,
      "outputs": [
        {
          "output_type": "stream",
          "text": [
            "\n",
            "-  Using Keyword Order   -\n",
            "Amit, Bhavesh and Nilesh\n"
          ],
          "name": "stdout"
        }
      ]
    },
    {
      "cell_type": "code",
      "metadata": {
        "id": "uV01uZayH9fI",
        "colab_type": "code",
        "colab": {
          "base_uri": "https://localhost:8080/",
          "height": 35
        },
        "outputId": "7cdecf53-840c-4aab-8254-eab56a076038"
      },
      "source": [
        "# In Python 3.6 a new string formatting method is introduced which is called f-string. We can use f-string to print variables inside the string in a easy way\n",
        "\n",
        "name=\"John\"\n",
        "age=25\n",
        "print(f\"My name is {name},and I am {age} years old.\")"
      ],
      "execution_count": null,
      "outputs": [
        {
          "output_type": "stream",
          "text": [
            "My name is John,and I am 25 years old.\n"
          ],
          "name": "stdout"
        }
      ]
    },
    {
      "cell_type": "code",
      "metadata": {
        "id": "nw7v-hQDIsfe",
        "colab_type": "code",
        "colab": {
          "base_uri": "https://localhost:8080/",
          "height": 35
        },
        "outputId": "c1d9d89e-c744-4df0-9723-56e16c22910a"
      },
      "source": [
        "# Common Python String Methods\n",
        "#lower() :This mehod converts the string into lowercase.\n",
        "\n",
        "str.lower()"
      ],
      "execution_count": null,
      "outputs": [
        {
          "output_type": "execute_result",
          "data": {
            "text/plain": [
              "'jovian'"
            ]
          },
          "metadata": {
            "tags": []
          },
          "execution_count": 64
        }
      ]
    },
    {
      "cell_type": "code",
      "metadata": {
        "id": "Z5h81fTiIscr",
        "colab_type": "code",
        "colab": {
          "base_uri": "https://localhost:8080/",
          "height": 35
        },
        "outputId": "2f010173-aeb9-4b4b-ea52-6a488a643908"
      },
      "source": [
        "# upper() :This mehod converts the string into uppercase.\n",
        "\n",
        "str.upper()"
      ],
      "execution_count": null,
      "outputs": [
        {
          "output_type": "execute_result",
          "data": {
            "text/plain": [
              "'JOVIAN'"
            ]
          },
          "metadata": {
            "tags": []
          },
          "execution_count": 65
        }
      ]
    },
    {
      "cell_type": "code",
      "metadata": {
        "id": "7OfcU21_Isav",
        "colab_type": "code",
        "colab": {
          "base_uri": "https://localhost:8080/",
          "height": 35
        },
        "outputId": "a9075cd9-86d3-48e0-bd5c-2768ae80e613"
      },
      "source": [
        "# split() :This will split all words into a list.\n",
        "\n",
        "str=\"Hello World\"\n",
        "str.split()"
      ],
      "execution_count": null,
      "outputs": [
        {
          "output_type": "execute_result",
          "data": {
            "text/plain": [
              "['Hello', 'World']"
            ]
          },
          "metadata": {
            "tags": []
          },
          "execution_count": 66
        }
      ]
    },
    {
      "cell_type": "code",
      "metadata": {
        "id": "EMQjFaWqIsX7",
        "colab_type": "code",
        "colab": {
          "base_uri": "https://localhost:8080/",
          "height": 35
        },
        "outputId": "c7d78061-6b86-49ff-8e3f-ecf203be683f"
      },
      "source": [
        "# join() :This will join all words into a string .\n",
        "\n",
        "l=['Happy','Birthday']\n",
        "''.join(l)"
      ],
      "execution_count": null,
      "outputs": [
        {
          "output_type": "execute_result",
          "data": {
            "text/plain": [
              "'HappyBirthday'"
            ]
          },
          "metadata": {
            "tags": []
          },
          "execution_count": 67
        }
      ]
    },
    {
      "cell_type": "code",
      "metadata": {
        "id": "3kFUGEU_IsT_",
        "colab_type": "code",
        "colab": {
          "base_uri": "https://localhost:8080/",
          "height": 35
        },
        "outputId": "3c50f55a-64d9-4da2-cba0-baf357960e2f"
      },
      "source": [
        "# find() :This will find the given sub-string and returns the indexValue of its first occurrence.\n",
        "\n",
        "str.find('o')"
      ],
      "execution_count": null,
      "outputs": [
        {
          "output_type": "execute_result",
          "data": {
            "text/plain": [
              "4"
            ]
          },
          "metadata": {
            "tags": []
          },
          "execution_count": 68
        }
      ]
    },
    {
      "cell_type": "code",
      "metadata": {
        "id": "EQngCsZQI_yo",
        "colab_type": "code",
        "colab": {
          "base_uri": "https://localhost:8080/",
          "height": 35
        },
        "outputId": "1b0f39e3-b2dc-4516-adaf-5c9082ff6837"
      },
      "source": [
        "# replace:(‘first’,’second’) :This will replace first word with the second word.\n",
        "\n",
        "str.replace('Hello','Happy')"
      ],
      "execution_count": null,
      "outputs": [
        {
          "output_type": "execute_result",
          "data": {
            "text/plain": [
              "'Happy World'"
            ]
          },
          "metadata": {
            "tags": []
          },
          "execution_count": 69
        }
      ]
    },
    {
      "cell_type": "code",
      "metadata": {
        "id": "2oBuJbjbI_v8",
        "colab_type": "code",
        "colab": {}
      },
      "source": [
        "# Thank you for reading till the end. If you find this tutorial Useful Please Share with your Friends."
      ],
      "execution_count": null,
      "outputs": []
    }
  ]
}